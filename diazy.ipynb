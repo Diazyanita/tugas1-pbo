{
  "nbformat": 4,
  "nbformat_minor": 0,
  "metadata": {
    "colab": {
      "provenance": [],
      "authorship_tag": "ABX9TyNULqO6JY6+aa+ox41PdzQ9",
      "include_colab_link": true
    },
    "kernelspec": {
      "name": "python3",
      "display_name": "Python 3"
    },
    "language_info": {
      "name": "python"
    }
  },
  "cells": [
    {
      "cell_type": "markdown",
      "metadata": {
        "id": "view-in-github",
        "colab_type": "text"
      },
      "source": [
        "<a href=\"https://colab.research.google.com/github/Diazyanita/tugas1-pbo/blob/main/diazy.ipynb\" target=\"_parent\"><img src=\"https://colab.research.google.com/assets/colab-badge.svg\" alt=\"Open In Colab\"/></a>"
      ]
    },
    {
      "cell_type": "code",
      "execution_count": 5,
      "metadata": {
        "id": "hlEcM9hWVgsb"
      },
      "outputs": [],
      "source": [
        "# Buat program latihan di sini\n",
        "# Nama  : Diaz yanita\n",
        "# kelas : XI rpl 2\n",
        "\n",
        "class Lingkaran:\n",
        "  def __init__(self, r):\n",
        "    self.r = r\n",
        "  def get_luas(self):\n",
        "    return 3.14*r*r\n",
        "  def get_keliling(self):\n",
        "    return 2 * 3.14 * self.r\n"
      ]
    },
    {
      "cell_type": "code",
      "source": [
        "r = float(input(\"Masukkan Jari Jari:\\t\"))\n",
        "\n",
        "Lingkaran_1 = Lingkaran(r)\n",
        "\n",
        "luas_lingkaran = Lingkaran_1.get_luas()\n",
        "print(\"luas lingkaran:\", luas_lingkaran)\n",
        "\n",
        "keliling_lingkaran = Lingkaran_1.get_keliling()\n",
        "print(\"keliling lingkaran\", keliling_lingkaran)\n",
        ""
      ],
      "metadata": {
        "colab": {
          "base_uri": "https://localhost:8080/"
        },
        "id": "f72RzWGraqWD",
        "outputId": "fdc0fba3-6a40-43ee-8289-5bb0ce349467"
      },
      "execution_count": 6,
      "outputs": [
        {
          "output_type": "stream",
          "name": "stdout",
          "text": [
            "Masukkan Jari Jari:\t60\n",
            "luas lingkaran: 11304.0\n",
            "keliling lingkaran 376.8\n"
          ]
        }
      ]
    }
  ]
}